{
 "cells": [
  {
   "cell_type": "code",
   "execution_count": 24,
   "metadata": {},
   "outputs": [],
   "source": [
    "import numpy as np"
   ]
  },
  {
   "cell_type": "markdown",
   "metadata": {},
   "source": [
    "# Numpy入門"
   ]
  },
  {
   "cell_type": "markdown",
   "metadata": {},
   "source": [
    "## 配列生成\n",
    "https://www.python.ambitious-engineer.com/archives/1225"
   ]
  },
  {
   "cell_type": "code",
   "execution_count": 26,
   "metadata": {},
   "outputs": [
    {
     "data": {
      "text/plain": [
       "array([1, 0, 1])"
      ]
     },
     "execution_count": 26,
     "metadata": {},
     "output_type": "execute_result"
    }
   ],
   "source": [
    "# 配列生成\n",
    "x = np.array([1,0,1])\n",
    "x"
   ]
  },
  {
   "cell_type": "code",
   "execution_count": 27,
   "metadata": {},
   "outputs": [
    {
     "data": {
      "text/plain": [
       "array([1, 2, 3, 4, 5, 6, 7, 8, 9])"
      ]
     },
     "execution_count": 27,
     "metadata": {},
     "output_type": "execute_result"
    }
   ],
   "source": [
    "# 範囲指定\n",
    "x = np.arange(1, 10)   # 1以上１０未満の配列を生成\n",
    "x"
   ]
  },
  {
   "cell_type": "code",
   "execution_count": 28,
   "metadata": {},
   "outputs": [
    {
     "data": {
      "text/plain": [
       "array([1, 3, 5, 7, 9])"
      ]
     },
     "execution_count": 28,
     "metadata": {},
     "output_type": "execute_result"
    }
   ],
   "source": [
    "# 間隔指定\n",
    "x = np.arange(1,10,2)   # １以上10未満、間隔２の配列を生成\n",
    "x"
   ]
  },
  {
   "cell_type": "code",
   "execution_count": 34,
   "metadata": {},
   "outputs": [
    {
     "data": {
      "text/plain": [
       "array([ 1.  ,  3.25,  5.5 ,  7.75, 10.  ])"
      ]
     },
     "execution_count": 34,
     "metadata": {},
     "output_type": "execute_result"
    }
   ],
   "source": [
    "# 個数指定\n",
    "x = np.linspace(1,10,5)  # 1〜10 で５個の要素\n",
    "x"
   ]
  },
  {
   "cell_type": "code",
   "execution_count": 37,
   "metadata": {},
   "outputs": [
    {
     "data": {
      "text/plain": [
       "array([1., 0., 1.], dtype=float32)"
      ]
     },
     "execution_count": 37,
     "metadata": {},
     "output_type": "execute_result"
    }
   ],
   "source": [
    "# データタイプを指定する\n",
    "\n",
    "# numpyには独自の型があり、引数dtypeで適切な型設定することによりメモリ使用量を節約することができます。\n",
    "# 詳細な型や型変換については別項にて説明します。上のサンプルのように型を指定しない場合はnumpy.int64となります。\n",
    "# 例えば、float32を指定する場合は以下のように記述します。\n",
    "\n",
    "x = np.array([1,0,1], dtype='float32')\n",
    "x"
   ]
  },
  {
   "cell_type": "code",
   "execution_count": 39,
   "metadata": {},
   "outputs": [
    {
     "name": "stdout",
     "output_type": "stream",
     "text": [
      "1\n",
      "[1 2]\n",
      "5\n"
     ]
    }
   ],
   "source": [
    "# 配列へのアクセス\n",
    "x = np.array([1,2,3,4,5]) # 配列を生成\n",
    "\n",
    "# 0番目にアクセス\n",
    "print(x[0])\n",
    "\n",
    "# スライスで０番目から２番目未満にアクセス\n",
    "print(x[0:2])\n",
    "\n",
    "# 最後の要素にアクセス\n",
    "print(x[-1])\n"
   ]
  },
  {
   "cell_type": "markdown",
   "metadata": {},
   "source": [
    "## 型と型変換\n",
    "https://www.python.ambitious-engineer.com/archives/1234"
   ]
  },
  {
   "cell_type": "markdown",
   "metadata": {},
   "source": [
    "Numpyの型\n",
    "https://docs.scipy.org/doc/numpy-dev/user/basics.types.html\n",
    "\n",
    "| 型　| 説明 |\n",
    "|:-----------|:-----------|\n",
    "|bool|真偽型|\n",
    "|int8\t|8ビット符号付き整数|\n",
    "|int16\t|16ビット符号付き整数|\n",
    "|int32\t|32ビット符号付き整数|\n",
    "|int64\t|64ビット符号付き整数|\n",
    "|uint8\t|8ビット符号なし整数|\n",
    "|uint16\t|16ビット符号なし整数|\n",
    "|uint32\t|32ビット符号なし整数|\n",
    "|uint64\t|64ビット符号なし整数|\n",
    "|float16\t|16ビット浮動小数点|\n",
    "|float32\t|32ビット浮動小数点|\n",
    "|float64\t|64ビット浮動小数点|\n",
    "|complex64\t|64ビット複素数|\n",
    "|complex128\t|１２８ビット複素数|\n",
    "\n",
    "参考）NumPyにおける要素のデータ型dtypeの種類と指定方法　\n",
    "https://deepage.net/features/numpy-dtype.html\n",
    "<br><br>\n",
    "参考）浮動小数点の構造　<br>\n",
    "http://www.altima.jp/column/fpga_edison/bit_number_float.html"
   ]
  },
  {
   "cell_type": "code",
   "execution_count": 48,
   "metadata": {},
   "outputs": [
    {
     "name": "stdout",
     "output_type": "stream",
     "text": [
      "int64\n",
      "int64\n"
     ]
    }
   ],
   "source": [
    "# 型の指定\n",
    "\n",
    "# 文字列で指定\n",
    "x = np.array([1,2,3], dtype='int64')\n",
    "print(x.dtype)\n",
    "\n",
    "# np.で指定\n",
    "x = np.array([1,2,3], dtype=np.int64)\n",
    "print(x.dtype)"
   ]
  },
  {
   "cell_type": "code",
   "execution_count": 56,
   "metadata": {},
   "outputs": [
    {
     "name": "stdout",
     "output_type": "stream",
     "text": [
      "[1 2 3 4 5]\n",
      "int32\n",
      "[1. 2. 3. 4. 5.]\n",
      "float32\n"
     ]
    }
   ],
   "source": [
    "# 型変換\n",
    "# 作成後の配列に対してastypeを使用して型変換を行うことができます。\n",
    "# 例えばint32からfloat32に型を変える場合は以下のようにします。\n",
    "x = np.array([1,2,3,4,5], dtype='int32')\n",
    "print(x)\n",
    "print(x.dtype)\n",
    "\n",
    "y = x.astype('float32')\n",
    "print(y)\n",
    "print(y.dtype)"
   ]
  },
  {
   "cell_type": "markdown",
   "metadata": {},
   "source": [
    "元のインスタンスは破壊されない点に注意してください。"
   ]
  },
  {
   "cell_type": "markdown",
   "metadata": {},
   "source": [
    "## ベクトルの演算\n",
    "https://www.python.ambitious-engineer.com/archives/1236"
   ]
  },
  {
   "cell_type": "markdown",
   "metadata": {},
   "source": [
    "### ベクトルの演算\n",
    "加法、スカラー倍、内積、外積は以下の方法で計算することが可能です。"
   ]
  },
  {
   "cell_type": "code",
   "execution_count": 57,
   "metadata": {},
   "outputs": [
    {
     "data": {
      "text/plain": [
       "array([5, 7, 9])"
      ]
     },
     "execution_count": 57,
     "metadata": {},
     "output_type": "execute_result"
    }
   ],
   "source": [
    "# ndarrayの演算\n",
    "x = np.array([1,2,3])\n",
    "y = np.array([4,5,6])\n",
    "\n",
    "x + y"
   ]
  },
  {
   "cell_type": "code",
   "execution_count": 58,
   "metadata": {},
   "outputs": [
    {
     "data": {
      "text/plain": [
       "array([-3, -3, -3])"
      ]
     },
     "execution_count": 58,
     "metadata": {},
     "output_type": "execute_result"
    }
   ],
   "source": [
    "x - y"
   ]
  },
  {
   "cell_type": "code",
   "execution_count": 59,
   "metadata": {},
   "outputs": [
    {
     "data": {
      "text/plain": [
       "array([ 4, 10, 18])"
      ]
     },
     "execution_count": 59,
     "metadata": {},
     "output_type": "execute_result"
    }
   ],
   "source": [
    "x * y"
   ]
  },
  {
   "cell_type": "code",
   "execution_count": 60,
   "metadata": {},
   "outputs": [
    {
     "data": {
      "text/plain": [
       "array([0.25, 0.4 , 0.5 ])"
      ]
     },
     "execution_count": 60,
     "metadata": {},
     "output_type": "execute_result"
    }
   ],
   "source": [
    "x / y"
   ]
  },
  {
   "cell_type": "markdown",
   "metadata": {},
   "source": [
    "### スカラー倍\n",
    "*演算子で定数を作用させるとスカラー倍することができます。"
   ]
  },
  {
   "cell_type": "code",
   "execution_count": 61,
   "metadata": {},
   "outputs": [
    {
     "data": {
      "text/plain": [
       "array([100, 200, 300])"
      ]
     },
     "execution_count": 61,
     "metadata": {},
     "output_type": "execute_result"
    }
   ],
   "source": [
    "x = np.array([1,2,3])\n",
    "a = 100\n",
    "\n",
    "x * a"
   ]
  },
  {
   "cell_type": "markdown",
   "metadata": {},
   "source": [
    "### 内積\n",
    "np.dotで内積を計算することができます。例えば以下のサンプルでは直行する基底の内積が0になることが確認できます\n",
    "\n",
    "参考）ベクトルの内積や行列の積を求めるnumpy.dot関数の使い方\n",
    "https://deepage.net/features/numpy-dot.html"
   ]
  },
  {
   "cell_type": "code",
   "execution_count": 64,
   "metadata": {},
   "outputs": [
    {
     "data": {
      "text/plain": [
       "0"
      ]
     },
     "execution_count": 64,
     "metadata": {},
     "output_type": "execute_result"
    }
   ],
   "source": [
    "e1 = np.array([1, 0, 0])\n",
    "e2 = np.array([0, 5, 0])\n",
    "\n",
    "np.dot(e1, e2)"
   ]
  },
  {
   "cell_type": "markdown",
   "metadata": {},
   "source": [
    "### クロス積\n",
    "numpy.crossでクロス積(=外積)を求めることができます。"
   ]
  },
  {
   "cell_type": "code",
   "execution_count": 65,
   "metadata": {},
   "outputs": [
    {
     "data": {
      "text/plain": [
       "array([0, 0, 5])"
      ]
     },
     "execution_count": 65,
     "metadata": {},
     "output_type": "execute_result"
    }
   ],
   "source": [
    "e1 = np.array([1, 0, 0])\n",
    "e2 = np.array([0, 5, 0])\n",
    "\n",
    "np.cross(e1, e2)"
   ]
  },
  {
   "cell_type": "code",
   "execution_count": 66,
   "metadata": {},
   "outputs": [
    {
     "data": {
      "text/plain": [
       "array([ 0,  0, -5])"
      ]
     },
     "execution_count": 66,
     "metadata": {},
     "output_type": "execute_result"
    }
   ],
   "source": [
    "np.cross(e2, e1)"
   ]
  },
  {
   "cell_type": "markdown",
   "metadata": {},
   "source": [
    "上のサンプルでは結果が法線ベクトルになっていることが分かります。"
   ]
  },
  {
   "cell_type": "markdown",
   "metadata": {},
   "source": [
    "### Numpy入門 行列(2次元配列)生成\n",
    "このページではnumpyを使用して行列を生成する方法について学習します。\n",
    "https://www.python.ambitious-engineer.com/archives/1230"
   ]
  },
  {
   "cell_type": "code",
   "execution_count": 67,
   "metadata": {},
   "outputs": [
    {
     "data": {
      "text/plain": [
       "array([[11, 12, 13],\n",
       "       [21, 22, 23],\n",
       "       [31, 32, 33]])"
      ]
     },
     "execution_count": 67,
     "metadata": {},
     "output_type": "execute_result"
    }
   ],
   "source": [
    "# 行列(2次元配列)\n",
    "# np.arrayの引数に2次元のリストを指定することで行列を表すことができます。\n",
    "# たとえば、3行3列の行列を生成する場合は以下のように記述します。\n",
    "x = np.array([[11, 12, 13], [21, 22, 23], [31, 32, 33]])\n",
    "x"
   ]
  },
  {
   "cell_type": "markdown",
   "metadata": {},
   "source": [
    "##### データアクセス"
   ]
  },
  {
   "cell_type": "code",
   "execution_count": 73,
   "metadata": {},
   "outputs": [
    {
     "name": "stdout",
     "output_type": "stream",
     "text": [
      "[[11 12 13]\n",
      " [21 22 23]\n",
      " [31 32 33]]\n"
     ]
    }
   ],
   "source": [
    "x = np.array([[11, 12, 13], [21, 22, 23], [31, 32, 33]])\n",
    "print(x)"
   ]
  },
  {
   "cell_type": "code",
   "execution_count": 74,
   "metadata": {},
   "outputs": [
    {
     "name": "stdout",
     "output_type": "stream",
     "text": [
      "13\n",
      "31\n"
     ]
    }
   ],
   "source": [
    "# 要素を取得\n",
    "# 行、列の順で添字を指定すると行列要素を取得することができます。\n",
    "print(x[0, 2])\n",
    "print(x[2,0])"
   ]
  },
  {
   "cell_type": "code",
   "execution_count": 75,
   "metadata": {},
   "outputs": [
    {
     "data": {
      "text/plain": [
       "array([[11, 12],\n",
       "       [21, 22]])"
      ]
     },
     "execution_count": 75,
     "metadata": {},
     "output_type": "execute_result"
    }
   ],
   "source": [
    "# スライス\n",
    "# スライスを使用することができます。\n",
    "# 2 x 2の部分行列を抽出する場合、以下のように記述することができます。\n",
    "x[0:2, 0:2]"
   ]
  },
  {
   "cell_type": "code",
   "execution_count": 76,
   "metadata": {},
   "outputs": [
    {
     "data": {
      "text/plain": [
       "array([11, 12, 13])"
      ]
     },
     "execution_count": 76,
     "metadata": {},
     "output_type": "execute_result"
    }
   ],
   "source": [
    "# 行の抽出\n",
    "# 最初の添字だけを指定すると、行を抽出することができます。\n",
    "# 1行めを取得する場合、以下のように記述します。\n",
    "row = x[0]\n",
    "row"
   ]
  },
  {
   "cell_type": "code",
   "execution_count": 77,
   "metadata": {},
   "outputs": [
    {
     "data": {
      "text/plain": [
       "array([12, 22, 32])"
      ]
     },
     "execution_count": 77,
     "metadata": {},
     "output_type": "execute_result"
    }
   ],
   "source": [
    "# 列の抽出\n",
    "# スライスが可能ですので、行を全て(コロン)指定すると2番めの添字で列を抽出することができます。\n",
    "col = x[:,1] # ０から数えて1番目の列を取得\n",
    "col"
   ]
  },
  {
   "cell_type": "markdown",
   "metadata": {},
   "source": [
    "## Numpy入門 よく使う行列の生成(単位行列・ゼロ行列・三角行列)\n",
    "https://www.python.ambitious-engineer.com/archives/1257"
   ]
  },
  {
   "cell_type": "code",
   "execution_count": 3,
   "metadata": {},
   "outputs": [],
   "source": [
    "import numpy as np"
   ]
  },
  {
   "cell_type": "markdown",
   "metadata": {},
   "source": [
    "#### 単位行列"
   ]
  },
  {
   "cell_type": "code",
   "execution_count": 11,
   "metadata": {},
   "outputs": [],
   "source": [
    "# eyeを使用する。引数にサイズを指定する\n",
    "E = np.eye(4)"
   ]
  },
  {
   "cell_type": "code",
   "execution_count": 8,
   "metadata": {},
   "outputs": [
    {
     "data": {
      "text/plain": [
       "numpy.ndarray"
      ]
     },
     "execution_count": 8,
     "metadata": {},
     "output_type": "execute_result"
    }
   ],
   "source": [
    "type(E)"
   ]
  },
  {
   "cell_type": "code",
   "execution_count": 10,
   "metadata": {},
   "outputs": [
    {
     "name": "stdout",
     "output_type": "stream",
     "text": [
      "[[1. 0. 0. 0.]\n",
      " [0. 1. 0. 0.]\n",
      " [0. 0. 1. 0.]\n",
      " [0. 0. 0. 1.]]\n"
     ]
    }
   ],
   "source": [
    "print(E)"
   ]
  },
  {
   "cell_type": "markdown",
   "metadata": {},
   "source": [
    "#### 三角行列"
   ]
  },
  {
   "cell_type": "code",
   "execution_count": 12,
   "metadata": {},
   "outputs": [],
   "source": [
    "# triを指定。引数にサイズを指定。\n",
    "TR = np.tri(4)"
   ]
  },
  {
   "cell_type": "code",
   "execution_count": 13,
   "metadata": {},
   "outputs": [
    {
     "name": "stdout",
     "output_type": "stream",
     "text": [
      "[[1. 0. 0. 0.]\n",
      " [1. 1. 0. 0.]\n",
      " [1. 1. 1. 0.]\n",
      " [1. 1. 1. 1.]]\n"
     ]
    }
   ],
   "source": [
    "print(TR)"
   ]
  },
  {
   "cell_type": "markdown",
   "metadata": {},
   "source": [
    "#### ゼロ行列"
   ]
  },
  {
   "cell_type": "code",
   "execution_count": 18,
   "metadata": {},
   "outputs": [],
   "source": [
    "# 引数に行x列のタプルやリストを指定する。\n",
    "ZERO = np.zeros((2,3,))"
   ]
  },
  {
   "cell_type": "code",
   "execution_count": 19,
   "metadata": {},
   "outputs": [
    {
     "name": "stdout",
     "output_type": "stream",
     "text": [
      "[[0. 0. 0.]\n",
      " [0. 0. 0.]]\n"
     ]
    }
   ],
   "source": [
    "print(ZERO)"
   ]
  },
  {
   "cell_type": "markdown",
   "metadata": {},
   "source": [
    "#### 要素が全て１の行列"
   ]
  },
  {
   "cell_type": "code",
   "execution_count": 20,
   "metadata": {},
   "outputs": [],
   "source": [
    "# onesを使用すると要素が全て1の行列を生成することができます。引数に行×列のタプルやリストを指定します。\n",
    "ONES = np.ones((3,2,))"
   ]
  },
  {
   "cell_type": "code",
   "execution_count": 21,
   "metadata": {},
   "outputs": [
    {
     "name": "stdout",
     "output_type": "stream",
     "text": [
      "[[1. 1.]\n",
      " [1. 1.]\n",
      " [1. 1.]]\n"
     ]
    }
   ],
   "source": [
    "print(ONES)"
   ]
  },
  {
   "cell_type": "markdown",
   "metadata": {},
   "source": [
    "## Numpy入門 行列の演算\n",
    "https://www.python.ambitious-engineer.com/archives/1262"
   ]
  },
  {
   "cell_type": "markdown",
   "metadata": {},
   "source": [
    "### ndarrayの四則演算\n",
    "ndarrayには演算が定義されていますが、掛け算も加減算と同様、<br>\n",
    "要素ごとに計算を行うだけのもの（いわゆるアダマール積）なので注意してください。<br>\n",
    "つまり、一般的な行列の積（内積）とは異なります。"
   ]
  },
  {
   "cell_type": "code",
   "execution_count": 87,
   "metadata": {},
   "outputs": [
    {
     "name": "stdout",
     "output_type": "stream",
     "text": [
      "[[1 2 3]\n",
      " [4 5 6]\n",
      " [7 8 9]]\n"
     ]
    }
   ],
   "source": [
    "import numpy as np\n",
    "\n",
    "a = np.array([[1,2,3],[4,5,6],[7,8,9]])\n",
    "print(a)"
   ]
  },
  {
   "cell_type": "code",
   "execution_count": 79,
   "metadata": {},
   "outputs": [
    {
     "data": {
      "text/plain": [
       "array([[10, 20, 30],\n",
       "       [40, 50, 60],\n",
       "       [70, 80, 90]])"
      ]
     },
     "execution_count": 79,
     "metadata": {},
     "output_type": "execute_result"
    }
   ],
   "source": [
    "b = np.array([[10,20,30], [40,50,60], [70,80,90]])\n",
    "b"
   ]
  },
  {
   "cell_type": "code",
   "execution_count": 81,
   "metadata": {},
   "outputs": [
    {
     "data": {
      "text/plain": [
       "array([[11, 22, 33],\n",
       "       [44, 55, 66],\n",
       "       [77, 88, 99]])"
      ]
     },
     "execution_count": 81,
     "metadata": {},
     "output_type": "execute_result"
    }
   ],
   "source": [
    "# 足し算\n",
    "a + b"
   ]
  },
  {
   "cell_type": "code",
   "execution_count": 82,
   "metadata": {},
   "outputs": [
    {
     "data": {
      "text/plain": [
       "array([[ -9, -18, -27],\n",
       "       [-36, -45, -54],\n",
       "       [-63, -72, -81]])"
      ]
     },
     "execution_count": 82,
     "metadata": {},
     "output_type": "execute_result"
    }
   ],
   "source": [
    "# 引き算\n",
    "a - b"
   ]
  },
  {
   "cell_type": "code",
   "execution_count": 83,
   "metadata": {},
   "outputs": [
    {
     "data": {
      "text/plain": [
       "array([[ 10,  40,  90],\n",
       "       [160, 250, 360],\n",
       "       [490, 640, 810]])"
      ]
     },
     "execution_count": 83,
     "metadata": {},
     "output_type": "execute_result"
    }
   ],
   "source": [
    "# 掛け算\n",
    "a * b"
   ]
  },
  {
   "cell_type": "code",
   "execution_count": 84,
   "metadata": {},
   "outputs": [
    {
     "data": {
      "text/plain": [
       "array([[0.1, 0.1, 0.1],\n",
       "       [0.1, 0.1, 0.1],\n",
       "       [0.1, 0.1, 0.1]])"
      ]
     },
     "execution_count": 84,
     "metadata": {},
     "output_type": "execute_result"
    }
   ],
   "source": [
    "# 割り算\n",
    "a / b"
   ]
  },
  {
   "cell_type": "markdown",
   "metadata": {},
   "source": [
    "### 行列の計算\n",
    "行列の和、差、積についてです。和、差はndarrayの演算になりますので細かい説明は省略します。"
   ]
  },
  {
   "cell_type": "code",
   "execution_count": 88,
   "metadata": {},
   "outputs": [],
   "source": [
    "# 和・差\n",
    "# ndarrayの+、-で和・差の計算が可能です。先ほどのサンプルの和差部分のみ再掲します。"
   ]
  },
  {
   "cell_type": "code",
   "execution_count": 91,
   "metadata": {},
   "outputs": [
    {
     "data": {
      "text/plain": [
       "array([[ 6, 12, 18],\n",
       "       [15, 30, 45],\n",
       "       [24, 48, 72]])"
      ]
     },
     "execution_count": 91,
     "metadata": {},
     "output_type": "execute_result"
    }
   ],
   "source": [
    "# 内積\n",
    "# 掛け算（内積）です。np.dotを使用します。\n",
    "# 行列a、bに対し、a×bを行う場合はnp.dot(a, b)と記述します。\n",
    "a = np.array([[1, 2, 3], [4, 5, 6],[7, 8, 9]])\n",
    "b = np.array([[1, 2, 3], [1, 2, 3],[1, 2, 3]])\n",
    "np.dot(a, b)"
   ]
  },
  {
   "cell_type": "code",
   "execution_count": 93,
   "metadata": {},
   "outputs": [
    {
     "name": "stdout",
     "output_type": "stream",
     "text": [
      "[[1. 0. 0.]\n",
      " [0. 1. 0.]\n",
      " [0. 0. 1.]]\n"
     ]
    }
   ],
   "source": [
    "# 単位行列を左右から掛け算し、値が変わらないことを確認する\n",
    "a = np.array([[1,2,3],[4,5,6],[7,8,9]])\n",
    "e = np.eye(3)\n",
    "print(e)"
   ]
  },
  {
   "cell_type": "code",
   "execution_count": 94,
   "metadata": {},
   "outputs": [
    {
     "data": {
      "text/plain": [
       "array([[1., 2., 3.],\n",
       "       [4., 5., 6.],\n",
       "       [7., 8., 9.]])"
      ]
     },
     "execution_count": 94,
     "metadata": {},
     "output_type": "execute_result"
    }
   ],
   "source": [
    "np.dot(a, e)"
   ]
  },
  {
   "cell_type": "code",
   "execution_count": 95,
   "metadata": {},
   "outputs": [
    {
     "data": {
      "text/plain": [
       "array([[1., 2., 3.],\n",
       "       [4., 5., 6.],\n",
       "       [7., 8., 9.]])"
      ]
     },
     "execution_count": 95,
     "metadata": {},
     "output_type": "execute_result"
    }
   ],
   "source": [
    "np.dot(e, a)"
   ]
  },
  {
   "cell_type": "markdown",
   "metadata": {},
   "source": [
    "## Numpy入門 行列の計算 回転行列の計算例\n",
    "https://www.python.ambitious-engineer.com/archives/1266"
   ]
  },
  {
   "cell_type": "code",
   "execution_count": 97,
   "metadata": {},
   "outputs": [
    {
     "data": {
      "text/plain": [
       "'\\n平面座標上の始点(0, 1)に対し、回転行列により30度ずつ回転移動させてみます。\\n移動させた点をmatplotlibで可視化してみます。\\nnumpyでは三角関数のsin、cosがnp.sin、np.cosとして提供されていますので\\n回転行列の各要素でそれらを使用します。\\n行列の掛け算では前回学習したnp.dotを使用します。\\n'"
      ]
     },
     "execution_count": 97,
     "metadata": {},
     "output_type": "execute_result"
    }
   ],
   "source": [
    "# 回転行列による一次変換\n",
    "'''\n",
    "平面座標上の始点(0, 1)に対し、回転行列により30度ずつ回転移動させてみます。\n",
    "移動させた点をmatplotlibで可視化してみます。\n",
    "numpyでは三角関数のsin、cosがnp.sin、np.cosとして提供されていますので\n",
    "回転行列の各要素でそれらを使用します。\n",
    "行列の掛け算では前回学習したnp.dotを使用します。\n",
    "'''"
   ]
  },
  {
   "cell_type": "code",
   "execution_count": 99,
   "metadata": {},
   "outputs": [
    {
     "data": {
      "image/png": "[encoded data removed]",
      "text/plain": [
       "<Figure size 432x288 with 1 Axes>"
      ]
     },
     "metadata": {},
     "output_type": "display_data"
    }
   ],
   "source": [
    "%matplotlib inline\n",
    "import matplotlib.pyplot as plt\n",
    "import numpy as np\n",
    "\n",
    "#　グラフの設定を行う\n",
    "plt.axes().set_aspect('equal', 'datalim')\n",
    "plt.grid()\n",
    "plt.xticks([-1, 0, 1])\n",
    "plt.yticks([-1, 0, 1])\n",
    "\n",
    "def get_rotation_matrix(rad):\n",
    "    '''\n",
    "    指定したradの回転行列を返す\n",
    "    '''\n",
    "    rot = np.array([[np.cos(rad), -np.sin(rad)],[np.sin(rad), np.cos(rad)]])\n",
    "    return rot\n",
    "\n",
    "# 始点\n",
    "base_point = np.array([1,0])\n",
    "x_points = []\n",
    "y_points = []\n",
    "\n",
    "for i in range(0, 12):\n",
    "    deg = i * 30\n",
    "    rad = deg * np.pi / 180\n",
    "    rot = get_rotation_matrix(rad)\n",
    "    rotated = np.dot(rot, base_point)\n",
    "    x_points.append(rotated[0])\n",
    "    y_points.append(rotated[1])\n",
    "\n",
    "plt.scatter(x_points, y_points)\n",
    "plt.show()"
   ]
  },
  {
   "cell_type": "markdown",
   "metadata": {},
   "source": [
    "上のスクリプトを実行すると、以下のようにグラフが描画され、\n",
    "一次変換によって回転移動されていることを確認することができます。\n",
    "（縦横比が揃っていないため若干楕円に見えてしまっていますが）"
   ]
  },
  {
   "cell_type": "markdown",
   "metadata": {},
   "source": [
    "## Numpy入門 基本的な線形代数計算\n",
    "https://www.python.ambitious-engineer.com/archives/1239\n",
    "\n",
    "numpy.linalgで基本的な線形代数演算が提供されています。線形代数の教養課程レベルの教科書によくある以下のトピックをピックアップしました。\n",
    "\n",
    "実際に手を動かして行列計算すると、だんだん慣れてくると思います。初学者の方はまずはコピペで動かしてみてください。\n",
    "基本的な線形代数計算 その1 ノルム・正規化・正規直交化\n",
    "基本的な線形代数計算 その2 転置・トレース・逆行列・行列式\n",
    "基本的な線形代数計算 その3 連立方程式\n",
    "基本的な線形代数計算 その4 固有値\n",
    "\n",
    "実際に業務などで計算する場合はScipyを使用することが多いのですが、以前書いたとおりNumpyが基礎となるため、簡単な計算でNumpyの配列の取り扱いに慣れると今後の学習がスムーズになるかと思います。"
   ]
  },
  {
   "cell_type": "markdown",
   "metadata": {},
   "source": [
    "## Numpy入門 基本的な線形代数計算 その1 ノルム・正規化・正規直交化"
   ]
  },
  {
   "cell_type": "markdown",
   "metadata": {},
   "source": [
    "#### ノルム\n",
    "numpy.linalg.normを使用するとベクトルのノルムを求めることができます。\n",
    "ピタゴラス数の小さい２数を使用した２次元ベクトルのサンプルを見てみましょう。\n"
   ]
  },
  {
   "cell_type": "code",
   "execution_count": 104,
   "metadata": {},
   "outputs": [
    {
     "data": {
      "text/plain": [
       "5.0"
      ]
     },
     "execution_count": 104,
     "metadata": {},
     "output_type": "execute_result"
    }
   ],
   "source": [
    "import numpy as np\n",
    "\n",
    "x = np.array([3,4])\n",
    "np.linalg.norm(x)"
   ]
  },
  {
   "cell_type": "code",
   "execution_count": 102,
   "metadata": {},
   "outputs": [
    {
     "data": {
      "text/plain": [
       "65.0"
      ]
     },
     "execution_count": 102,
     "metadata": {},
     "output_type": "execute_result"
    }
   ],
   "source": [
    "y = np.array([33, 56])\n",
    "np.linalg.norm(y)"
   ]
  },
  {
   "cell_type": "markdown",
   "metadata": {},
   "source": [
    "斜辺の長さとなっていることが確認できます。３次元以上でも同様です。"
   ]
  },
  {
   "cell_type": "code",
   "execution_count": 103,
   "metadata": {},
   "outputs": [
    {
     "data": {
      "text/plain": [
       "6.0"
      ]
     },
     "execution_count": 103,
     "metadata": {},
     "output_type": "execute_result"
    }
   ],
   "source": [
    "x = np.array([2, 4, 4])\n",
    "np.linalg.norm(x)"
   ]
  },
  {
   "cell_type": "markdown",
   "metadata": {},
   "source": [
    "#### 正規化\n",
    "numpy.linalg.normでノルムが求まりました。\n",
    "長さで割り算すると正規化することができます。\n",
    "先ほどのサンプルをさらに正規化してみましょう。"
   ]
  },
  {
   "cell_type": "code",
   "execution_count": 106,
   "metadata": {},
   "outputs": [
    {
     "data": {
      "text/plain": [
       "6.0"
      ]
     },
     "execution_count": 106,
     "metadata": {},
     "output_type": "execute_result"
    }
   ],
   "source": [
    "x = np.array([2,4,4])\n",
    "norm = np.linalg.norm(x)\n",
    "norm"
   ]
  },
  {
   "cell_type": "code",
   "execution_count": 107,
   "metadata": {},
   "outputs": [
    {
     "data": {
      "text/plain": [
       "array([0.33333333, 0.66666667, 0.66666667])"
      ]
     },
     "execution_count": 107,
     "metadata": {},
     "output_type": "execute_result"
    }
   ],
   "source": [
    "# ノルムで除算し、正規化する\n",
    "e = x / norm\n",
    "e"
   ]
  },
  {
   "cell_type": "code",
   "execution_count": 108,
   "metadata": {},
   "outputs": [
    {
     "data": {
      "text/plain": [
       "1.0"
      ]
     },
     "execution_count": 108,
     "metadata": {},
     "output_type": "execute_result"
    }
   ],
   "source": [
    "# 正規化を確認する\n",
    "np.linalg.norm(e)"
   ]
  },
  {
   "cell_type": "markdown",
   "metadata": {},
   "source": [
    "最終的にノルムが1の正規化されたベクトルを算出することができました。"
   ]
  },
  {
   "cell_type": "markdown",
   "metadata": {},
   "source": [
    "#### 正規直交化\n",
    "２つの基底ベクトルが張るベクトル空間に対し、基底を正規直交化してみましょう。線形代数の授業などではグラムシュミットの正規直交化を利用したと思いますが、私も含め難儀された方が多いのではないでしょうか？np.linalg.qrを使用するとQR分解されたものが返されます。すなわち、任意の正則行列Aが直交行列Qと上三角行列Rの積に分解されて値が返されるわけです。\n",
    "\n",
    "3次元ベクトル空間内に基底(1, 1, 0)、(0, -1, 0)が張る部分空間（つまり３次元空間中のXY平面）があったとします。この基底を正規直交化してみましょう。"
   ]
  },
  {
   "cell_type": "code",
   "execution_count": 110,
   "metadata": {},
   "outputs": [
    {
     "data": {
      "text/plain": [
       "array([[ 1,  1],\n",
       "       [ 1, -1],\n",
       "       [ 0,  0]])"
      ]
     },
     "execution_count": 110,
     "metadata": {},
     "output_type": "execute_result"
    }
   ],
   "source": [
    "# 基底(1, 1, 0)、(0, -1, 0)\n",
    "a = np.array([[1, 1], [1, -1], [0, 0]])\n",
    "a"
   ]
  },
  {
   "cell_type": "code",
   "execution_count": 113,
   "metadata": {},
   "outputs": [
    {
     "name": "stdout",
     "output_type": "stream",
     "text": [
      "[[-0.70710678 -0.70710678]\n",
      " [-0.70710678  0.70710678]\n",
      " [-0.          0.        ]]\n",
      "[[-1.41421356e+00  3.33066907e-16]\n",
      " [ 0.00000000e+00 -1.41421356e+00]]\n"
     ]
    }
   ],
   "source": [
    "q, r = np.linalg.qr(a)\n",
    "print(q)\n",
    "print(r)"
   ]
  },
  {
   "cell_type": "markdown",
   "metadata": {},
   "source": [
    "QR分解された値が取得できました。せっかくなので、実際に正規直交なのかを内積とノルムを計算して確認してみましょう。"
   ]
  },
  {
   "cell_type": "code",
   "execution_count": 114,
   "metadata": {},
   "outputs": [
    {
     "data": {
      "text/plain": [
       "'-0.0000000000'"
      ]
     },
     "execution_count": 114,
     "metadata": {},
     "output_type": "execute_result"
    }
   ],
   "source": [
    "# 内積を計算する\n",
    "ip = np.dot(q[0], q[1])\n",
    " \n",
    "\"%.10f\" % ip"
   ]
  },
  {
   "cell_type": "code",
   "execution_count": 115,
   "metadata": {},
   "outputs": [
    {
     "data": {
      "text/plain": [
       "0.9999999999999998"
      ]
     },
     "execution_count": 115,
     "metadata": {},
     "output_type": "execute_result"
    }
   ],
   "source": [
    "# ノルムを確認する\n",
    "np.linalg.norm(q[0])"
   ]
  },
  {
   "cell_type": "code",
   "execution_count": 116,
   "metadata": {},
   "outputs": [
    {
     "data": {
      "text/plain": [
       "0.9999999999999999"
      ]
     },
     "execution_count": 116,
     "metadata": {},
     "output_type": "execute_result"
    }
   ],
   "source": [
    "np.linalg.norm(q[1])"
   ]
  },
  {
   "cell_type": "markdown",
   "metadata": {},
   "source": [
    "誤差により厳密には0になりませんので、内積の方はフォーマットにより小数点表示で丸めて確認しています。"
   ]
  },
  {
   "cell_type": "markdown",
   "metadata": {},
   "source": [
    "## Numpy入門 基本的な線形代数計算 その2 転置・トレース・逆行列・行列式\n",
    "https://www.python.ambitious-engineer.com/archives/1283"
   ]
  },
  {
   "cell_type": "markdown",
   "metadata": {},
   "source": [
    "#### 転置\n",
    "プロパティTで行列の転置を取得することができます。いくつかのサンプルで確認してみましょう。"
   ]
  },
  {
   "cell_type": "code",
   "execution_count": 123,
   "metadata": {},
   "outputs": [
    {
     "name": "stdout",
     "output_type": "stream",
     "text": [
      "[1 2 3]\n",
      "[1 2 3]\n"
     ]
    }
   ],
   "source": [
    "import numpy as np\n",
    " \n",
    "a = np.array([1, 2, 3])\n",
    "print(a)\n",
    "print(a.T)"
   ]
  },
  {
   "cell_type": "code",
   "execution_count": 118,
   "metadata": {},
   "outputs": [
    {
     "data": {
      "text/plain": [
       "array([[1],\n",
       "       [2],\n",
       "       [3]])"
      ]
     },
     "execution_count": 118,
     "metadata": {},
     "output_type": "execute_result"
    }
   ],
   "source": [
    "b = np.array([[1], [2], [3]])\n",
    "b"
   ]
  },
  {
   "cell_type": "code",
   "execution_count": 119,
   "metadata": {},
   "outputs": [
    {
     "data": {
      "text/plain": [
       "array([[1, 2, 3]])"
      ]
     },
     "execution_count": 119,
     "metadata": {},
     "output_type": "execute_result"
    }
   ],
   "source": [
    "b.T"
   ]
  },
  {
   "cell_type": "code",
   "execution_count": 120,
   "metadata": {},
   "outputs": [
    {
     "data": {
      "text/plain": [
       "array([[1, 2],\n",
       "       [3, 4]])"
      ]
     },
     "execution_count": 120,
     "metadata": {},
     "output_type": "execute_result"
    }
   ],
   "source": [
    "c = np.array([[1, 2], [3, 4]])\n",
    "c"
   ]
  },
  {
   "cell_type": "code",
   "execution_count": 121,
   "metadata": {},
   "outputs": [
    {
     "data": {
      "text/plain": [
       "array([[1, 3],\n",
       "       [2, 4]])"
      ]
     },
     "execution_count": 121,
     "metadata": {},
     "output_type": "execute_result"
    }
   ],
   "source": [
    "c.T"
   ]
  },
  {
   "cell_type": "markdown",
   "metadata": {},
   "source": [
    "#### トレース\n",
    "行列の対角成分の和をトレースと呼びます。トレースの算出はtraceメソッドを使用します。"
   ]
  },
  {
   "cell_type": "code",
   "execution_count": 125,
   "metadata": {},
   "outputs": [
    {
     "data": {
      "text/plain": [
       "array([[1, 2],\n",
       "       [3, 4]])"
      ]
     },
     "execution_count": 125,
     "metadata": {},
     "output_type": "execute_result"
    }
   ],
   "source": [
    "a = np.array([[1, 2], [3,4]])\n",
    "a"
   ]
  },
  {
   "cell_type": "code",
   "execution_count": 126,
   "metadata": {},
   "outputs": [
    {
     "data": {
      "text/plain": [
       "5"
      ]
     },
     "execution_count": 126,
     "metadata": {},
     "output_type": "execute_result"
    }
   ],
   "source": [
    "a.trace()"
   ]
  },
  {
   "cell_type": "markdown",
   "metadata": {},
   "source": [
    "#### 逆行列\n",
    "linalg.invメソッドで逆行列を求めることができます。"
   ]
  },
  {
   "cell_type": "code",
   "execution_count": 127,
   "metadata": {},
   "outputs": [
    {
     "data": {
      "text/plain": [
       "array([[1, 2],\n",
       "       [3, 4]])"
      ]
     },
     "execution_count": 127,
     "metadata": {},
     "output_type": "execute_result"
    }
   ],
   "source": [
    "a = np.array([[1, 2], [3, 4]])\n",
    "a"
   ]
  },
  {
   "cell_type": "code",
   "execution_count": 129,
   "metadata": {},
   "outputs": [
    {
     "data": {
      "text/plain": [
       "array([[-2. ,  1. ],\n",
       "       [ 1.5, -0.5]])"
      ]
     },
     "execution_count": 129,
     "metadata": {},
     "output_type": "execute_result"
    }
   ],
   "source": [
    "a_inv = np.linalg.inv(a)\n",
    "a_inv"
   ]
  },
  {
   "cell_type": "code",
   "execution_count": 130,
   "metadata": {},
   "outputs": [
    {
     "data": {
      "text/plain": [
       "array([[1.0000000e+00, 0.0000000e+00],\n",
       "       [8.8817842e-16, 1.0000000e+00]])"
      ]
     },
     "execution_count": 130,
     "metadata": {},
     "output_type": "execute_result"
    }
   ],
   "source": [
    "# 検算してみる\n",
    "np.dot(a, a_inv)"
   ]
  },
  {
   "cell_type": "markdown",
   "metadata": {},
   "source": [
    "最後の計算で行列の積で単位行列になることを確認していますが誤差が発生しています。"
   ]
  },
  {
   "cell_type": "markdown",
   "metadata": {},
   "source": [
    "#### 逆行式\n",
    "行列式はlinalg.detで求めることができます。"
   ]
  },
  {
   "cell_type": "code",
   "execution_count": 131,
   "metadata": {},
   "outputs": [
    {
     "data": {
      "text/plain": [
       "array([[1, 2],\n",
       "       [3, 4]])"
      ]
     },
     "execution_count": 131,
     "metadata": {},
     "output_type": "execute_result"
    }
   ],
   "source": [
    "a = np.array([[1, 2], [3, 4]])\n",
    "a"
   ]
  },
  {
   "cell_type": "code",
   "execution_count": 132,
   "metadata": {},
   "outputs": [
    {
     "data": {
      "text/plain": [
       "-2.0000000000000004"
      ]
     },
     "execution_count": 132,
     "metadata": {},
     "output_type": "execute_result"
    }
   ],
   "source": [
    "det_a = np.linalg.det(a)\n",
    "det_a"
   ]
  },
  {
   "cell_type": "markdown",
   "metadata": {},
   "source": [
    "1 * 4 - 2 *3 = -2なのでほぼ正しい値が取得できていることが確認できます。"
   ]
  },
  {
   "cell_type": "markdown",
   "metadata": {},
   "source": [
    "## Numpy入門 基本的な線形代数計算 その3 連立方程式\n",
    "https://www.python.ambitious-engineer.com/archives/1288"
   ]
  },
  {
   "cell_type": "markdown",
   "metadata": {},
   "source": [
    "#### 連立方程式\n",
    "Numpyのlinalgには連立方程式を解くsolveが用意されています。引数に連立方程式の係数行列と定数の行列を指定します。"
   ]
  },
  {
   "cell_type": "code",
   "execution_count": 134,
   "metadata": {},
   "outputs": [
    {
     "data": {
      "text/plain": [
       "array([[3, 1],\n",
       "       [1, 3]])"
      ]
     },
     "execution_count": 134,
     "metadata": {},
     "output_type": "execute_result"
    }
   ],
   "source": [
    "import numpy as np\n",
    " \n",
    "# 係数行列\n",
    "coef = np.array([[3, 1], [1, 3]])\n",
    "coef"
   ]
  },
  {
   "cell_type": "code",
   "execution_count": 136,
   "metadata": {},
   "outputs": [
    {
     "data": {
      "text/plain": [
       "array([9, 0])"
      ]
     },
     "execution_count": 136,
     "metadata": {},
     "output_type": "execute_result"
    }
   ],
   "source": [
    "# 定数の行列\n",
    "dep = np.array( [9, 0])\n",
    "dep"
   ]
  },
  {
   "cell_type": "code",
   "execution_count": 137,
   "metadata": {},
   "outputs": [
    {
     "data": {
      "text/plain": [
       "array([ 3.375, -1.125])"
      ]
     },
     "execution_count": 137,
     "metadata": {},
     "output_type": "execute_result"
    }
   ],
   "source": [
    "# 連立方程式の解\n",
    "ans = np.linalg.solve(coef, dep)\n",
    "ans"
   ]
  },
  {
   "cell_type": "code",
   "execution_count": 138,
   "metadata": {},
   "outputs": [
    {
     "data": {
      "text/plain": [
       "9.0"
      ]
     },
     "execution_count": 138,
     "metadata": {},
     "output_type": "execute_result"
    }
   ],
   "source": [
    "# 念の為検算してみましょう。\n",
    "3 * ans[0] + 1 * ans[1]"
   ]
  },
  {
   "cell_type": "code",
   "execution_count": 139,
   "metadata": {},
   "outputs": [
    {
     "data": {
      "text/plain": [
       "0.0"
      ]
     },
     "execution_count": 139,
     "metadata": {},
     "output_type": "execute_result"
    }
   ],
   "source": [
    "1 * ans[0] + 3 * ans[1]"
   ]
  },
  {
   "cell_type": "markdown",
   "metadata": {},
   "source": [
    "## Numpy入門 基本的な線形代数計算 その4 固有値\n",
    "https://www.python.ambitious-engineer.com/archives/1300"
   ]
  },
  {
   "cell_type": "markdown",
   "metadata": {},
   "source": [
    "#### 固有値と固有ベクトル"
   ]
  },
  {
   "cell_type": "code",
   "execution_count": 140,
   "metadata": {},
   "outputs": [
    {
     "data": {
      "text/plain": [
       "array([[2, 1, 1],\n",
       "       [1, 2, 1],\n",
       "       [1, 1, 2]])"
      ]
     },
     "execution_count": 140,
     "metadata": {},
     "output_type": "execute_result"
    }
   ],
   "source": [
    "# ３行３列の行列を使用してみます。戻り値はw、vの２つでそれぞれ固有値と固有ベクトルとなります。\n",
    "a = np.array([[2, 1, 1],[1, 2, 1],[1, 1, 2]])\n",
    "a"
   ]
  },
  {
   "cell_type": "code",
   "execution_count": 141,
   "metadata": {},
   "outputs": [
    {
     "data": {
      "text/plain": [
       "array([1., 4., 1.])"
      ]
     },
     "execution_count": 141,
     "metadata": {},
     "output_type": "execute_result"
    }
   ],
   "source": [
    "w, v = np.linalg.eig(a)\n",
    "w"
   ]
  },
  {
   "cell_type": "code",
   "execution_count": 142,
   "metadata": {},
   "outputs": [
    {
     "data": {
      "text/plain": [
       "array([[-0.81649658,  0.57735027, -0.32444284],\n",
       "       [ 0.40824829,  0.57735027, -0.48666426],\n",
       "       [ 0.40824829,  0.57735027,  0.81110711]])"
      ]
     },
     "execution_count": 142,
     "metadata": {},
     "output_type": "execute_result"
    }
   ],
   "source": [
    "v"
   ]
  },
  {
   "cell_type": "markdown",
   "metadata": {},
   "source": [
    "固有方程式が重解を持つ場合でも、linalg.eigの戻り値は重複した値を返すという点に注意してください。上の行列の固有値方程式は、\n",
    "(λ−1)2(λ−4)=0\n",
    "で1は重解ですが、wで1が２つ返されています。vでwの添字に対応した固有ベクトルが返されます。"
   ]
  },
  {
   "cell_type": "markdown",
   "metadata": {},
   "source": [
    "## Numpy入門 ユニバーサル関数とは\n",
    "https://www.python.ambitious-engineer.com/archives/1321\n",
    "\n",
    "Numpyの配列、ndarrayの全要素に対して、要素ごとに演算等の処理を行い、結果をndarrayで返す関数をユニバーサル関数と呼びます。\n",
    "ユニバーサル関数は省略してufuncと呼ぶこともあります。\n",
    "\n",
    "予めNumpyライブラリで提供されているものに加え、独自実装することも可能です。"
   ]
  },
  {
   "cell_type": "code",
   "execution_count": 143,
   "metadata": {},
   "outputs": [
    {
     "data": {
      "text/plain": [
       "array([ 0.84147098,  0.90929743,  0.14112001, -0.7568025 , -0.95892427,\n",
       "       -0.2794155 ,  0.6569866 ,  0.98935825,  0.41211849])"
      ]
     },
     "execution_count": 143,
     "metadata": {},
     "output_type": "execute_result"
    }
   ],
   "source": [
    "# sin 正弦を返す\n",
    "x = np.arange(1, 10)\n",
    "np.sin(x)"
   ]
  },
  {
   "cell_type": "markdown",
   "metadata": {},
   "source": [
    "引数にndarrayを指定すると、それぞれの正弦の値が格納されたndarrayが返されていることが確認できます。"
   ]
  },
  {
   "cell_type": "code",
   "execution_count": 144,
   "metadata": {},
   "outputs": [
    {
     "data": {
      "text/plain": [
       "array([5, 7, 9])"
      ]
     },
     "execution_count": 144,
     "metadata": {},
     "output_type": "execute_result"
    }
   ],
   "source": [
    "# add 足し算\n",
    "# 一方で２つのndarrayを引数にそれぞれの演算結果を返すユニバーサル関数もあります。\n",
    "# 基本的なものとしてaddが挙げられます。名前の通り、足し算の結果を返すユニバーサル関数です。\n",
    "x = np.array([1, 2, 3])\n",
    "y = np.array([4, 5, 6])\n",
    "np.add(x, y)"
   ]
  },
  {
   "cell_type": "markdown",
   "metadata": {},
   "source": [
    "## Numpy入門 代表的なユニバーサル関数\n",
    "Numpyに予め組み込まれているユニバーサル関数のうち、代表的なものを紹介します。\n",
    "代数演算、論理演算、比較演算、指数・対数、三角関数といった初等関数は全て用意されています。"
   ]
  },
  {
   "cell_type": "markdown",
   "metadata": {},
   "source": [
    "### 演算などの基本的な関数"
   ]
  },
  {
   "cell_type": "markdown",
   "metadata": {},
   "source": [
    "|関数名\t|説明|\n",
    "|:---|:---|\n",
    "|add(x1, x2)\t|加算|\n",
    "|subtract(x1, x2)\t|減算|\n",
    "|multiply(x1, x2)\t|掛け算|\n",
    "|divide(x1, x2)\t|割り算|\n",
    "|mod(x1, x2)\t|剰余|\n",
    "|remainder(x1, x2)\t|余り|\n",
    "|square(x)\t|２乗|\n",
    "|power(x1, x2)\t|べき乗|\n",
    "|sign(x)\t|符号|\n",
    "|negative(x)\t|符号逆転|\n",
    "|sqrt(x)\t|平方根|\n",
    "|cbrt(x)\t|三乗根|\n",
    "|reciprocal(x)\t|逆数|\n",
    "|fabs(x)\t|絶対値|\n",
    "|modf(x)\t|小数部分と整数部分|"
   ]
  },
  {
   "cell_type": "code",
   "execution_count": 145,
   "metadata": {},
   "outputs": [],
   "source": [
    "# 最後のmodfについて補足します。\n",
    "# この関数、小数部分と整数部分、戻り値が２つ返されます。サンプルで確認してみましょう。\n",
    "x = np.array([1.0, 2.1, -3.2])\n",
    "i, f = np.modf(x)"
   ]
  },
  {
   "cell_type": "code",
   "execution_count": 146,
   "metadata": {},
   "outputs": [
    {
     "data": {
      "text/plain": [
       "array([ 0. ,  0.1, -0.2])"
      ]
     },
     "execution_count": 146,
     "metadata": {},
     "output_type": "execute_result"
    }
   ],
   "source": [
    "i"
   ]
  },
  {
   "cell_type": "code",
   "execution_count": 147,
   "metadata": {},
   "outputs": [
    {
     "data": {
      "text/plain": [
       "array([ 1.,  2., -3.])"
      ]
     },
     "execution_count": 147,
     "metadata": {},
     "output_type": "execute_result"
    }
   ],
   "source": [
    "f"
   ]
  },
  {
   "cell_type": "markdown",
   "metadata": {},
   "source": [
    "### 指数・対数関数\n",
    "\n",
    "|exp(x)\t|自然対数のべき乗|\n",
    "|:---|:---|\n",
    "|exp2(x)\t|2のべき乗|\n",
    "|log(x)\t|自然対数|\n",
    "|log2(x)\t|底が2の対数|\n",
    "|log10(x)\t|常用対数|\n",
    "|expm1(x)\t|exp(x) - 1|\n",
    "|log1p(x)\t|log(1+x)|"
   ]
  },
  {
   "cell_type": "markdown",
   "metadata": {},
   "source": [
    "### 三角関数\n",
    "|関数名\t|説明|\n",
    "|:---|:---|\n",
    "|sin(x)\t|正弦|\n",
    "|cos(x)\t|余弦|\n",
    "|tan(x)\t|正接|\n",
    "|arcsin(x)\t|逆正弦|\n",
    "|arccos(x)\t|逆余弦|\n",
    "|arctan(x)\t|逆正接|\n",
    "|sinh(x)\t|双曲線正弦|\n",
    "|cosh(x)\t|双曲線余弦|\n",
    "|tanh(x)\t|双曲線正接|\n",
    "|arcsinh(x)\t|逆双曲線正弦|\n",
    "|arccosh(x)\t|逆双曲線余弦|\n",
    "|arctanh(x)\t|逆双曲線正接|\n",
    "|deg2rad(x)\t|角度を度からラジアンに変換します。|\n",
    "|rad2deg(x)\t|角度をラジアンから度に変換します。|"
   ]
  },
  {
   "cell_type": "markdown",
   "metadata": {},
   "source": [
    "単位としてラジアンを使用する点に注意してください。弧度法からラジアンの変換は上記表の通り、deg2radで可能です。試しに６０度を変換して確認してみましょう。円周率はnp.piを使用します。"
   ]
  },
  {
   "cell_type": "code",
   "execution_count": 148,
   "metadata": {},
   "outputs": [
    {
     "data": {
      "text/plain": [
       "1.0471975511965976"
      ]
     },
     "execution_count": 148,
     "metadata": {},
     "output_type": "execute_result"
    }
   ],
   "source": [
    "import numpy as np\n",
    "deg = 60\n",
    " \n",
    "np.deg2rad(deg)"
   ]
  },
  {
   "cell_type": "code",
   "execution_count": 149,
   "metadata": {},
   "outputs": [
    {
     "data": {
      "text/plain": [
       "1.0471975511965976"
      ]
     },
     "execution_count": 149,
     "metadata": {},
     "output_type": "execute_result"
    }
   ],
   "source": [
    "# 60度 = 半円（１８０度）の３分の1\n",
    "np.pi / 3"
   ]
  },
  {
   "cell_type": "markdown",
   "metadata": {},
   "source": [
    "### ビット演算\n",
    "|関数名\t|説明|\n",
    "|:---|:---|\n",
    "|bitwise_and(x1, x2)\t|ビットごとのAND演算|\n",
    "|bitwise_or(x1, x2)\t|ビットごとのOR演算|\n",
    "|bitwise_xor(x1, x2)\t|ビットごとのXOR演算|\n",
    "|invert(x)\t|ビットごとのNOT演算|\n",
    "|left_shift(x1, x2)\t|整数ビットを左シフト演算|\n",
    "|right_shift(x1, x2)\t|整数ビットを右シフト演算|"
   ]
  },
  {
   "cell_type": "markdown",
   "metadata": {},
   "source": [
    "### 比較演算\n",
    "|関数名\t|説明|\n",
    "|:---|:---|\n",
    "|greater(x1, x2)\t|（x1> x2）を判定|\n",
    "|greater_equal(x1, x2)\t|（x1> = x2）を判定|\n",
    "|less(x1, x2)\t|（x1|\n",
    "|less_equal(x1, x2)\t|（x1 =|\n",
    "|not_equal(x1, x2)\t|（x1！= x2）を判定|\n",
    "|equal(x1, x2)\t|（x1 == x2）を判定|\n",
    "|logical_and(x1, x2)\t|AND演算|\n",
    "|logical_or(x1, x2)\t|OR演算|\n",
    "|logical_xor(x1, x2)\t|XOR演算|\n",
    "|logical_not(x)\t|NOT演算|\n",
    "|maximum(x1, x2)\t|配列要素の要素単位の最大値。|\n",
    "|minimum(x1, x2)\t|配列要素の要素単位の最小値。|\n",
    "|fmax(x1, x2)\t|配列要素の要素単位の最大値。|\n",
    "|fmin(x1, x2)\t|配列要素の要素単位の最小値。|"
   ]
  },
  {
   "cell_type": "markdown",
   "metadata": {},
   "source": [
    "## Numpy入門 通常の関数をユニバーサル関数に変換する frompyfunc\n",
    "https://www.python.ambitious-engineer.com/archives/1333"
   ]
  },
  {
   "cell_type": "markdown",
   "metadata": {},
   "source": [
    "#### frompyfunc\n",
    "冒頭で紹介したとおり、frompyfuncというnumpyの関数を使用すると、通常の関数をユニバーサル関数に変換することができます。引数に対象となる関数オブジェクト、引数の数と出力の数を指定します。戻り値としてユニバーサル関数オブジェクトが返されます。"
   ]
  },
  {
   "cell_type": "code",
   "execution_count": 151,
   "metadata": {},
   "outputs": [
    {
     "data": {
      "text/plain": [
       "array(['1', '2', '3'], dtype=object)"
      ]
     },
     "execution_count": 151,
     "metadata": {},
     "output_type": "execute_result"
    }
   ],
   "source": [
    "# Sample1\n",
    "# まずはpythonの組込み関数strをfrompyfuncでユニバーサル関数化してみましょう。\n",
    "# strは1つの引数に対し、文字列表現を1つ返す関数です。\n",
    "\n",
    "import numpy as np\n",
    " \n",
    "# frompyfuncで新たな関数を作る\n",
    "new_str = np.frompyfunc(str, 1, 1)\n",
    "\n",
    "# ndarrayを生成\n",
    "a = np.array([1, 2, 3])\n",
    " \n",
    "# frompyfuncで作った関数を使用\n",
    "new_str(a)"
   ]
  },
  {
   "cell_type": "markdown",
   "metadata": {},
   "source": [
    "frompyfuncから新たに作った関数を使用すると、ndarrayそれぞれの要素に対して文字列表現が取得できていることが確認できます。"
   ]
  },
  {
   "cell_type": "code",
   "execution_count": 153,
   "metadata": {},
   "outputs": [
    {
     "name": "stdout",
     "output_type": "stream",
     "text": [
      "[4 4 4]\n",
      "[-2 0 2]\n"
     ]
    }
   ],
   "source": [
    "# Sample2\n",
    "# 同様の方法で自前の関数をユニバーサル関数化することも可能です。\n",
    "# 2つの引数に対し、和と差の2つを返す関数をユニバーサル関数化してみましょう。\n",
    "\n",
    "import numpy as np\n",
    " \n",
    "def sumsub(x, y):\n",
    "    return x + y, x -y\n",
    " \n",
    "# frompyfuncで新たな関数を作成\n",
    "new_func = np.frompyfunc(sumsub, 2, 2)\n",
    " \n",
    "# ndarrayを2つ生成\n",
    "x = np.array([1, 2, 3])\n",
    "y = np.array([3, 2, 1])\n",
    " \n",
    "# frompyfuncで作った関数を使用\n",
    "sum, sub = new_func(x, y)\n",
    " \n",
    "print(sum)\n",
    "print(sub)"
   ]
  },
  {
   "cell_type": "markdown",
   "metadata": {},
   "source": [
    "frompyfuncの引数には<br>\n",
    "元の関数sumsubの引数、戻り値の数を指定しますので、<br>\n",
    "上のサンプルでは2, 2を指定しています。"
   ]
  },
  {
   "cell_type": "markdown",
   "metadata": {},
   "source": [
    "## Numpy入門 メッシュグリッドと可視化\n",
    "https://www.python.ambitious-engineer.com/archives/1323"
   ]
  },
  {
   "cell_type": "markdown",
   "metadata": {},
   "source": [
    "#### meshgridとは\n",
    "配列X=[1, 2, 3]、Y=[-1, 0, 1]が与えられていたとします。これらの格子点、つまりXとYの組み合わせは(1, 0)、(2, 0)、(3, 0)、(1, 1)、(2, 1)、(3, 1)、(1, -1)、(2, -1)、(3, -1)の9つとなりますが、meshgridを使用するとそれらをプログラム上で扱いやすい形で出力されたX, Yの組を得ることができます。"
   ]
  },
  {
   "cell_type": "code",
   "execution_count": 154,
   "metadata": {},
   "outputs": [
    {
     "data": {
      "text/plain": [
       "array([[1, 2, 3],\n",
       "       [1, 2, 3],\n",
       "       [1, 2, 3]])"
      ]
     },
     "execution_count": 154,
     "metadata": {},
     "output_type": "execute_result"
    }
   ],
   "source": [
    "X = [1, 2, 3]\n",
    "Y = [-1, 0, 1]\n",
    "xv, yv = np.meshgrid(X, Y)\n",
    "xv"
   ]
  },
  {
   "cell_type": "code",
   "execution_count": 155,
   "metadata": {},
   "outputs": [
    {
     "data": {
      "text/plain": [
       "array([[-1, -1, -1],\n",
       "       [ 0,  0,  0],\n",
       "       [ 1,  1,  1]])"
      ]
     },
     "execution_count": 155,
     "metadata": {},
     "output_type": "execute_result"
    }
   ],
   "source": [
    "yv"
   ]
  },
  {
   "cell_type": "markdown",
   "metadata": {},
   "source": [
    "少しわかりづらい構造ですが、以下のように2回ループで順番に要素を取り出すと前述の直積、9つの要素が得られることが確認できます。"
   ]
  },
  {
   "cell_type": "code",
   "execution_count": 156,
   "metadata": {},
   "outputs": [
    {
     "name": "stdout",
     "output_type": "stream",
     "text": [
      "1 -1\n",
      "2 -1\n",
      "3 -1\n",
      "1 0\n",
      "2 0\n",
      "3 0\n",
      "1 1\n",
      "2 1\n",
      "3 1\n"
     ]
    }
   ],
   "source": [
    "for xx, yy in zip(xv, yv):\n",
    "    for x, y in zip(xx, yy):\n",
    "        print(x, y)"
   ]
  },
  {
   "cell_type": "markdown",
   "metadata": {},
   "source": [
    "#### meshgridを利用した可視化\n",
    "とっつきづらい構造ですが、ユニバーサル関数と相性がよく、グリッド上の関数の評価する際に非常に便利です。（公式より「meshgrid is very useful to evaluate functions on a grid.」）\n",
    "\n",
    "また、評価結果をそのままmatplotlibに指定して出力することが可能です。\n",
    "\n",
    "サンプルです。教養課程の微積の鞍点の説明でよく使用される関数\n",
    "z=x2−y2について、定義域[−1,1]×[−1,1]の様子を可視化して確認してみましょう。ユニバーサル関数np.subtractにそのまま値を指定することができている点に注目してください。"
   ]
  },
  {
   "cell_type": "code",
   "execution_count": 158,
   "metadata": {},
   "outputs": [
    {
     "data": {
      "image/png": "[encoded data removed]",
      "text/plain": [
       "<Figure size 432x288 with 1 Axes>"
      ]
     },
     "metadata": {},
     "output_type": "display_data"
    }
   ],
   "source": [
    "import numpy as np\n",
    "import matplotlib.pyplot as plt\n",
    "from mpl_toolkits.mplot3d import Axes3D\n",
    " \n",
    "# 定義域[-1, 1]のx, yを50個区切りで生成\n",
    "x = np.linspace(-1, 1, 50)\n",
    "y = np.linspace(-1, 1, 50)\n",
    " \n",
    "# メッシュグリッドを生成\n",
    "xv, yv = np.meshgrid(x, y)\n",
    "\n",
    "# 関数x^2 - y^2の値をzに代入\n",
    "z = np.subtract(xv**2, yv**2)\n",
    "\n",
    "# x, y, zをワイヤフレームで表示\n",
    "ax = Axes3D(plt.figure())\n",
    "ax.plot_wireframe(xv, yv, z)\n",
    "plt.show()"
   ]
  },
  {
   "cell_type": "markdown",
   "metadata": {},
   "source": [
    "## Numpy入門 乱数\n",
    "https://www.python.ambitious-engineer.com/archives/1325 <br>\n",
    "numpyのrandomモジュールには様々な乱数を生成するメソッドが用意されています。まずは基本的なrandメソッドについて学習しましょう。"
   ]
  },
  {
   "cell_type": "markdown",
   "metadata": {},
   "source": [
    "#### rand\n",
    "randメソッドを使用すると、最も基本的な乱数である[0, 1)区間（0.0以上、1.0未満）の一様乱数を生成することができます。\n",
    "\n",
    "引数で生成する要素数を指定します。\n",
    "\n",
    "10000個の乱数を生成し、階級数が20のヒストグラムで可視化するサンプルを見てみましょう。"
   ]
  },
  {
   "cell_type": "code",
   "execution_count": 159,
   "metadata": {},
   "outputs": [
    {
     "data": {
      "image/png": "[encoded data removed]",
      "text/plain": [
       "<Figure size 432x288 with 1 Axes>"
      ]
     },
     "metadata": {},
     "output_type": "display_data"
    }
   ],
   "source": [
    "import numpy as np\n",
    "import matplotlib.pyplot as plt\n",
    " \n",
    "rand_array = np.random.rand(10000)\n",
    "plt.hist(rand_array, bins=20)\n",
    "plt.show()"
   ]
  },
  {
   "cell_type": "markdown",
   "metadata": {},
   "source": [
    "#### 多次元の乱数\n",
    "第二引数以降を指定すると、その次元の乱数行列が返されます。2x20の行列を生成してプロットしてみましょう。"
   ]
  },
  {
   "cell_type": "code",
   "execution_count": 160,
   "metadata": {},
   "outputs": [
    {
     "data": {
      "image/png": "[encoded data removed]",
      "text/plain": [
       "<Figure size 432x288 with 1 Axes>"
      ]
     },
     "metadata": {},
     "output_type": "display_data"
    }
   ],
   "source": [
    "import numpy as np\n",
    "import matplotlib.pyplot as plt\n",
    " \n",
    "rand_x, rand_y = np.random.rand(2, 20)\n",
    "plt.scatter(rand_x, rand_y)\n",
    "plt.show()"
   ]
  },
  {
   "cell_type": "markdown",
   "metadata": {},
   "source": [
    "#### さまざまな分布の乱数\n",
    "|メソッド\t|分布|\n",
    "|:---|:---|\n",
    "|beta\t|ベータ分布|\n",
    "|binomial\t|二項分布|\n",
    "|chisquare\t|カイ二乗分布|\n",
    "|dirichlet\t|ディリクレ分布|\n",
    "|exponential\t|指数分布|\n",
    "|f\t|F分布|\n",
    "|gamma\t|ガンマ分布|\n",
    "|geometric\t|幾何分布|\n",
    "|gumbel\t|ガンベル分布|\n",
    "|hypergeometric\t|超幾何分布|\n",
    "|logistic\t|ロジスティック分布|\n",
    "|lognormal\t|対数正規分布|\n",
    "|logseries\t|対数級数分布|\n",
    "|multinomial\t|多項分布|\n",
    "|multivariate_normal\t|多変量正規分布|\n",
    "|negative_binomial\t|負の二項分布|\n",
    "|noncentral_chisquare\t|非中心カイ二乗分布|\n",
    "|noncentral_f\t|非中心F分布から|\n",
    "|normal\t|正規分布|\n",
    "|poisson\t|ポアソン分布|\n",
    "|standard_cauchy\t|標準コーシー分布|\n",
    "|standard_exponential\t|標準指数分布|\n",
    "|standard_gamma\t|標準ガンマ分布|\n",
    "|standard_normal\t|標準正規分布|\n",
    "|standard_t\t|標準t分布|\n",
    "|uniform\t|一様分布|\n",
    "|weibull\t|ワイブル分布|\n",
    "\n",
    "その他の分布の乱数や、引数については以下を参照してください。\n",
    "Random sampling\n",
    "https://docs.scipy.org/doc/numpy/reference/routines.random.html\n"
   ]
  },
  {
   "cell_type": "code",
   "execution_count": 161,
   "metadata": {},
   "outputs": [
    {
     "data": {
      "image/png": "[encoded data removed]",
      "text/plain": [
       "<Figure size 432x288 with 1 Axes>"
      ]
     },
     "metadata": {},
     "output_type": "display_data"
    }
   ],
   "source": [
    "# 例として標準正規分布をヒストグラムで可視化してみましょう。\n",
    "import numpy as np\n",
    "import matplotlib.pyplot as plt\n",
    " \n",
    "rand_array = np.random.standard_normal(10000)\n",
    "plt.hist(rand_array, bins=50)\n",
    "plt.show()"
   ]
  },
  {
   "cell_type": "markdown",
   "metadata": {},
   "source": [
    "## Numpy入門 乱数その2\n",
    "https://www.python.ambitious-engineer.com/archives/1327"
   ]
  },
  {
   "cell_type": "markdown",
   "metadata": {},
   "source": [
    "#### choice ランダムな要素選択\n",
    "choiceメソッドを使用すると、リスト、タプルのようなシーケンシャルオブジェクトから\n",
    "ランダムに要素を選択することができます。\n",
    "\n",
    "引数に対象のリストを指定しますが、それ以外に第２引数で選択する要素数、\n",
    "キーワード引数pで確率ウェイトをリストで指定することができます。"
   ]
  },
  {
   "cell_type": "code",
   "execution_count": 162,
   "metadata": {},
   "outputs": [
    {
     "data": {
      "text/plain": [
       "'チャーハン'"
      ]
     },
     "execution_count": 162,
     "metadata": {},
     "output_type": "execute_result"
    }
   ],
   "source": [
    "import numpy as np\n",
    " \n",
    "menu = ['カレー', 'チャーハン', '焼きそば', 'グラタン', '肉じゃが']\n",
    " \n",
    "# ランダムで一つ要素を選択する\n",
    "np.random.choice(menu)"
   ]
  },
  {
   "cell_type": "code",
   "execution_count": 163,
   "metadata": {},
   "outputs": [
    {
     "data": {
      "text/plain": [
       "array(['チャーハン', 'グラタン', 'カレー'], dtype='<U5')"
      ]
     },
     "execution_count": 163,
     "metadata": {},
     "output_type": "execute_result"
    }
   ],
   "source": [
    "# ランダムで３つ要素を選択する\n",
    "np.random.choice(menu, 3)"
   ]
  },
  {
   "cell_type": "code",
   "execution_count": 181,
   "metadata": {},
   "outputs": [
    {
     "data": {
      "text/plain": [
       "'カレー'"
      ]
     },
     "execution_count": 181,
     "metadata": {},
     "output_type": "execute_result"
    }
   ],
   "source": [
    "# 1/2の確率でカレーが食べたい\n",
    "np.random.choice(menu, p=[1/2, 1/8, 1/8, 1/8, 1/8])"
   ]
  },
  {
   "cell_type": "markdown",
   "metadata": {},
   "source": [
    "#### seed シードの設定\n",
    "\n",
    "擬似乱数ジェネレータのシードをseedメソッドを使用して設定することができます。\n",
    "シードに指定できる値はNone（デフォルト）、0 〜 (2^32) - 1の整数、それらの整数の配列を指定することができます。Noneの場合は処理系により異なりますが、/dev/urandomやクロックを元にした値が設定されます。\n",
    "\n",
    "単体テストなどで毎回同じ乱数を生成する必要がある場合に使用することが多いかと思いますが、その場合は適当な整数を設定しましょう。"
   ]
  },
  {
   "cell_type": "code",
   "execution_count": 187,
   "metadata": {},
   "outputs": [
    {
     "name": "stdout",
     "output_type": "stream",
     "text": [
      "⑴ 0.5434049417909654\n",
      "⑵ 0.27836938509379616\n",
      "⑶ 0.4245175907491331\n",
      "⑷ None\n",
      "⑸ 0.5434049417909654\n",
      "⑹ 0.27836938509379616\n",
      "⑺ 0.4245175907491331\n"
     ]
    }
   ],
   "source": [
    "import numpy as np\n",
    " \n",
    "# シードを設定後、乱数を３回生成する\n",
    "np.random.seed(100)\n",
    " \n",
    "print(\"⑴\", np.random.rand())\n",
    "# 0.5434049417909654\n",
    "\n",
    "print(\"⑵\", np.random.rand())\n",
    "# 0.27836938509379616\n",
    "\n",
    "print(\"⑶\",np.random.rand())\n",
    "# 0.4245175907491331\n",
    " \n",
    "# 再度シードを設定後、乱数を３回生成する\n",
    "print(\"⑷\",np.random.seed(100))\n",
    "\n",
    "print(\"⑸\",np.random.rand())\n",
    "# 0.5434049417909654\n",
    "\n",
    "print(\"⑹\",np.random.rand())\n",
    "# 0.27836938509379616\n",
    "\n",
    "print(\"⑺\",np.random.rand())"
   ]
  },
  {
   "cell_type": "markdown",
   "metadata": {},
   "source": [
    "上のサンプルではシードに100を設定後、乱数を３回生成しています。\n",
    "その後、再度シードを設定して３回生成していますが、\n",
    "３回とも前回生成した乱数と同じものが取得できていることが確認できます。"
   ]
  },
  {
   "cell_type": "markdown",
   "metadata": {},
   "source": [
    "## Numpy入門 乱数その3 モンテカルロ法の計算例\n",
    "https://www.python.ambitious-engineer.com/archives/1394 <br>\n",
    "Numpyの乱数の練習として、モンテカルロ法のサンプルを掲載します。（一様分布の乱数であれば何でも良いため、Numpyではなく組み込みのrandomモジュールを使用しても問題はありません。）"
   ]
  },
  {
   "cell_type": "code",
   "execution_count": 189,
   "metadata": {},
   "outputs": [
    {
     "name": "stdout",
     "output_type": "stream",
     "text": [
      "3.164\n"
     ]
    },
    {
     "data": {
      "image/png": "[encoded data removed]",
      "text/plain": [
       "<Figure size 432x288 with 1 Axes>"
      ]
     },
     "metadata": {},
     "output_type": "display_data"
    }
   ],
   "source": [
    "# 円周率を求める\n",
    "import numpy as np\n",
    "from matplotlib import pyplot as plt\n",
    " \n",
    "def is_inner(x, y):\n",
    "    \"\"\"\n",
    "    円の内側かどうかを判定\n",
    "    \"\"\"\n",
    "    return x ** 2 + y ** 2 < 1\n",
    "\n",
    "inner_points_cnt = 0\n",
    "all_points_cnt = 0\n",
    "\n",
    "X, Y = np.random.rand(2, 10 ** 4)\n",
    "for x, y in zip(X, Y):\n",
    "    all_points_cnt += 1\n",
    "    if is_inner(x, y):\n",
    "        inner_points_cnt += 1\n",
    "\n",
    "pi = (inner_points_cnt / all_points_cnt) * 4\n",
    " \n",
    "# 計算結果を表示\n",
    "print(pi)\n",
    "\n",
    "# 以下matplotlibによる可視化\n",
    "\n",
    "# ランダムに配置した点\n",
    "plt.scatter(X, Y, s=1)\n",
    "\n",
    "# x ** 2 + y ** 2 = 1 のグラフ\n",
    "cx = np.linspace(0, 1, 100)\n",
    "cy = np.sqrt(np.subtract(1, cx ** 2))\n",
    "plt.plot(cx, cy, linewidth=3, color='r')\n",
    "\n",
    "# 縦横比をそろえる\n",
    "plt.gca().set_aspect('equal', adjustable='box')\n",
    "\n",
    "# グラフの表示\n",
    "plt.show()"
   ]
  },
  {
   "cell_type": "code",
   "execution_count": 190,
   "metadata": {},
   "outputs": [
    {
     "name": "stdout",
     "output_type": "stream",
     "text": [
      "1.9634954084936207\n"
     ]
    },
    {
     "data": {
      "image/png": "[encoded data removed]",
      "text/plain": [
       "<Figure size 432x288 with 1 Axes>"
      ]
     },
     "metadata": {},
     "output_type": "display_data"
    }
   ],
   "source": [
    "# 三角関数の面積を求める\n",
    "\n",
    "import numpy as np\n",
    "from matplotlib import pyplot as plt\n",
    " \n",
    "def is_inner(x, y):\n",
    "    \"\"\"\n",
    "    sin(x)の内側かどうかを判定\n",
    "    \"\"\"\n",
    "    return y < np.sin(x)\n",
    " \n",
    "points_num = 10 ** 4 # 生成する点の数\n",
    "inner_points_cnt = 0 # 内側の点のカウンタ\n",
    " \n",
    "X = np.random.rand(points_num) * np.pi\n",
    "Y = np.random.rand(points_num) \n",
    "for x, y in zip(X, Y):\n",
    "    if is_inner(x, y):\n",
    "        inner_points_cnt += 1\n",
    "\n",
    "S = (1 * np.pi) * (inner_points_cnt / points_num)\n",
    " \n",
    "# 計算結果を表示\n",
    "print(S)\n",
    " \n",
    "# 以下matplotlibによる可視化\n",
    " \n",
    "# ランダムに配置した点のプロット\n",
    "plt.scatter(X, Y, s=1)\n",
    " \n",
    "# y = sin(x) のグラフ\n",
    "cx = np.linspace(0, np.pi, 100)\n",
    "cy = np.sin(cx)\n",
    "plt.plot(cx, cy, linewidth=3, color='r')\n",
    " \n",
    "# 縦横比をそろえる\n",
    "plt.gca().set_aspect('equal', adjustable='box')\n",
    " \n",
    "# グラフの表示\n",
    "plt.show()"
   ]
  },
  {
   "cell_type": "markdown",
   "metadata": {},
   "source": [
    "複雑な積分計算も近似値が単純な計算で得られる点が大きなメリットです。\n",
    "\n",
    "上の両サンプルでは、ランダムな点を先に生成しているためメモリの使い方としてはイマイチですね。生成する乱数の数が膨大になると少々不安があります。精度を上げるため生成する乱数を増やす場合はwhile文にしてループ内で都度乱数を生成するなどして工夫してみてください。"
   ]
  },
  {
   "cell_type": "code",
   "execution_count": null,
   "metadata": {},
   "outputs": [],
   "source": []
  }
 ],
 "metadata": {
  "anaconda-cloud": {},
  "kernelspec": {
   "display_name": "Python 3",
   "language": "python",
   "name": "python3"
  },
  "language_info": {
   "codemirror_mode": {
    "name": "ipython",
    "version": 3
   },
   "file_extension": ".py",
   "mimetype": "text/x-python",
   "name": "python",
   "nbconvert_exporter": "python",
   "pygments_lexer": "ipython3",
   "version": "3.5.2"
  }
 },
 "nbformat": 4,
 "nbformat_minor": 2
}
