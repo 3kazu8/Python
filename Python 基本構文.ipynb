{
 "cells": [
  {
   "cell_type": "markdown",
   "metadata": {
    "collapsed": true
   },
   "source": [
    "## Hello Python3 !"
   ]
  },
  {
   "cell_type": "code",
   "execution_count": 3,
   "metadata": {},
   "outputs": [
    {
     "name": "stdout",
     "output_type": "stream",
     "text": [
      "Hello wold!\n"
     ]
    }
   ],
   "source": [
    "\"\"\"\n",
    "この中もコメントアウトになります。\n",
    "複数行\n",
    "コメント！\n",
    "コメント！\n",
    "\"\"\"\n",
    "\n",
    "# コメントです！\n",
    "print(\"Hello wold!\")"
   ]
  },
  {
   "cell_type": "markdown",
   "metadata": {},
   "source": [
    "## 変数を使ってみよう"
   ]
  },
  {
   "cell_type": "code",
   "execution_count": 4,
   "metadata": {},
   "outputs": [
    {
     "name": "stdout",
     "output_type": "stream",
     "text": [
      "Hello wold!\n"
     ]
    }
   ],
   "source": [
    "msg = \"Hello wold!\"\n",
    "print(msg)"
   ]
  },
  {
   "cell_type": "code",
   "execution_count": 6,
   "metadata": {},
   "outputs": [
    {
     "name": "stdout",
     "output_type": "stream",
     "text": [
      "Hello wold!\n",
      "Hello Endo!\n"
     ]
    }
   ],
   "source": [
    "# 変数を一つにして、値を変える。\n",
    "msg = \"Hello wold!\"\n",
    "print(msg)\n",
    "msg = \"Hello Endo!\"\n",
    "print(msg)"
   ]
  },
  {
   "cell_type": "code",
   "execution_count": 7,
   "metadata": {},
   "outputs": [
    {
     "name": "stdout",
     "output_type": "stream",
     "text": [
      "test@gmail.com\n"
     ]
    }
   ],
   "source": [
    "# 定数\n",
    "ADMIN_EMAIL = \"test@gmail.com\"\n",
    "print(ADMIN_EMAIL)"
   ]
  },
  {
   "cell_type": "markdown",
   "metadata": {},
   "source": [
    "## データの演算"
   ]
  },
  {
   "cell_type": "code",
   "execution_count": 8,
   "metadata": {},
   "outputs": [
    {
     "name": "stdout",
     "output_type": "stream",
     "text": [
      "3.3333333333333335\n",
      "3\n",
      "1\n",
      "9\n"
     ]
    }
   ],
   "source": [
    "x = 10\n",
    "\n",
    "#割り算\n",
    "print(x/3)\n",
    "\n",
    "#除算\n",
    "print(x //3)\n",
    "\n",
    "#余り\n",
    "print(x % 3)\n",
    "\n",
    "#べき乗\n",
    "print(3 ** 2)"
   ]
  },
  {
   "cell_type": "markdown",
   "metadata": {},
   "source": [
    "## 計算の簡略化"
   ]
  },
  {
   "cell_type": "code",
   "execution_count": 9,
   "metadata": {},
   "outputs": [
    {
     "name": "stdout",
     "output_type": "stream",
     "text": [
      "16\n"
     ]
    }
   ],
   "source": [
    "# 短い演算\n",
    "y = 4\n",
    "\n",
    "y += 12\n",
    "print(y)"
   ]
  },
  {
   "cell_type": "code",
   "execution_count": null,
   "metadata": {},
   "outputs": [],
   "source": []
  }
 ],
 "metadata": {
  "anaconda-cloud": {},
  "kernelspec": {
   "display_name": "Python 3",
   "language": "python",
   "name": "python3"
  },
  "language_info": {
   "codemirror_mode": {
    "name": "ipython",
    "version": 3
   },
   "file_extension": ".py",
   "mimetype": "text/x-python",
   "name": "python",
   "nbconvert_exporter": "python",
   "pygments_lexer": "ipython3",
   "version": "3.5.2"
  }
 },
 "nbformat": 4,
 "nbformat_minor": 1
}
